{
 "cells": [
  {
   "cell_type": "markdown",
   "metadata": {},
   "source": [
    "# Portfolio2Keyword\n",
    "\n",
    "*Portfolio2Keyword* (p2k) is an algorithm written in python for automatic keyword extraction from a collection of documents and was developed for the project in the text mining course (732A92) at Linköping University. The goal of the algorithm is to provide users with a simple and interactive tool with the intention to aid the user in the process information retrieval. The algorithm is by no means a complete toolset but can nonetheless introduce time-savings and valuable insights to the user.  \n",
    "\n",
    "P2k also introduce an eﬃcient ranking algorithm that, despite its simplicity, extracts semantic coherent keywords to be used as building blocks for future queries. The proposed algorithm is compared to the widely used PageRank algorithm\n",
    "  \n",
    "For a detailed description of the algorithm, read the project [report]() \n",
    "\n",
    "\n",
    "## Requirements\n",
    "\n",
    "The following python modules have been used in the implementation of the algorithm\n",
    "\n",
    "* networkx\n",
    "* nltk\n",
    "* scipy.stats\n",
    "* spacy\n",
    "* operator\n",
    "\n",
    "____\n",
    "\n",
    "\n",
    "## p2k Description\n",
    "\n",
    "The algorithm takes three arguments:\n",
    "\n",
    "* portfolio\n",
    "    + The corpus as an python list\n",
    "* stopwords\n",
    "    + A python set of stopwords (optional). If not provided, the function algorithm will use the standard set from the nltk module.\n",
    "* tags\n",
    "    + A python set of Part-of-Speech (POS) tags. Default is None, used if the user only wants to include keywords of a certain word-type.\n",
    "    \n",
    "    \n",
    "## Example Run\n",
    "\n",
    "In the following example, the algorithm will be run in two setups for demonstrating the use of POS-tags.\n",
    "\n",
    "* Setup 1: All POS-tags\n",
    "* Setup 2: Subset of POS-tags, namely adjectives, nouns and verbs"
   ]
  },
  {
   "cell_type": "code",
   "execution_count": 39,
   "metadata": {},
   "outputs": [],
   "source": [
    "import nltk\n",
    "import portfolio2keyword as p2k\n",
    "import networkx as nx\n",
    "\n",
    "stopwords = set(nltk.corpus.stopwords.words('english'))\n",
    "pos_tags = set(['NOUN', 'VERB', 'ADJ'])"
   ]
  },
  {
   "cell_type": "markdown",
   "metadata": {},
   "source": [
    "Alternatively, the user can choose to extend the set of stopwords by adding domain-specif stopwords the _union_ method."
   ]
  },
  {
   "cell_type": "code",
   "execution_count": 5,
   "metadata": {},
   "outputs": [],
   "source": [
    "stopwords = stopwords.union(set('hello'))"
   ]
  },
  {
   "cell_type": "markdown",
   "metadata": {},
   "source": [
    "The portfolio can consist of strings of any sort, ranging from simple sentences to full-text documents. In this example, we will use the following texts:\n",
    "\n",
    "> “Text mining, also referred to as text data mining, roughly equivalent to text analytics, is the process of deriving high-quality information from text.”\n",
    "\n",
    "\n",
    "---\n",
    "\n",
    "### Initialization and Keyword Ranking"
   ]
  },
  {
   "cell_type": "code",
   "execution_count": 34,
   "metadata": {},
   "outputs": [],
   "source": [
    "portfolio = [\"Text mining, also referred to as text data mining, roughly equivalent to text analytics, is the process of deriving high-quality information from text\"]\n",
    "\n",
    "# Setup 1\n",
    "portfolio_posAll = p2k.portfolio2keyword(portfolio, stopwords= stopwords)\n",
    "\n",
    "# Setup 2\n",
    "portfolio_posSubset = p2k.portfolio2keyword(portfolio, stopwords= stopwords, tags=pos_tags)"
   ]
  },
  {
   "cell_type": "markdown",
   "metadata": {},
   "source": [
    "__Summary:__  \n",
    "\n",
    "Followed by this, the user can extract some useful summary to get some useful insights. In this case, we can see that by using a subset of POS-tags we avoid generating two additional candidate keywords."
   ]
  },
  {
   "cell_type": "code",
   "execution_count": 35,
   "metadata": {},
   "outputs": [
    {
     "name": "stdout",
     "output_type": "stream",
     "text": [
      "Number of Keyword Candidates 13\n",
      "Number of Documents 1\n"
     ]
    }
   ],
   "source": [
    "portfolio_posAll.get_summary()"
   ]
  },
  {
   "cell_type": "code",
   "execution_count": 36,
   "metadata": {},
   "outputs": [
    {
     "name": "stdout",
     "output_type": "stream",
     "text": [
      "Number of Keyword Candidates 11\n",
      "Number of Documents 1\n"
     ]
    }
   ],
   "source": [
    "portfolio_posSubset.get_summary()"
   ]
  },
  {
   "cell_type": "markdown",
   "metadata": {},
   "source": [
    "__Extracting Keywords:__\n",
    "\n",
    "The next step is to extract relevant keywords using a ranking algorithm of choice. The two ranking algorithms included in p2k are, as of this moments, the PageRank and HarmonicRank algorithm."
   ]
  },
  {
   "cell_type": "code",
   "execution_count": 37,
   "metadata": {},
   "outputs": [],
   "source": [
    "# Setup 1\n",
    "keywords_posAll_PR = portfolio_posAll.extract_keywords_pagerank()\n",
    "keywords_posAll_HR = portfolio_posAll.extract_keywords_harmonic()\n",
    "\n",
    "# Setup 2\n",
    "keywords_posSubset_PR = portfolio_posSubset.extract_keywords_pagerank()\n",
    "keywords_posSubset_HR = portfolio_posSubset.extract_keywords_harmonic()"
   ]
  },
  {
   "cell_type": "markdown",
   "metadata": {},
   "source": [
    "__All POS-tags (Setup 1):__\n",
    " "
   ]
  },
  {
   "cell_type": "code",
   "execution_count": 40,
   "metadata": {},
   "outputs": [
    {
     "name": "stdout",
     "output_type": "stream",
     "text": [
      "PageRank         HarmonicRank   \n",
      "------------------------------\n",
      "text            | text           \n",
      "high            | datum          \n",
      "quality         | high           \n",
      "also            | mining         \n",
      "roughly         | quality        \n",
      "equivalent      | also           \n",
      "refer           | roughly        \n",
      "datum           | analytic       \n",
      "mining          | equivalent     \n",
      "information     | derive         \n"
     ]
    }
   ],
   "source": [
    "print(\"{0:15}  {1:15}\".format(\"PageRank\",\"HarmonicRank\"))\n",
    "print(\"-\"*30)\n",
    "for i in range(10):\n",
    "    print(\"{0:15} | {1:15}\".format(keywords_posAll_PR[i][0],keywords_posAll_HR[i][0]))"
   ]
  },
  {
   "cell_type": "markdown",
   "metadata": {},
   "source": [
    "__Subset of POS-tags (Setup 2):__"
   ]
  },
  {
   "cell_type": "code",
   "execution_count": 30,
   "metadata": {},
   "outputs": [
    {
     "name": "stdout",
     "output_type": "stream",
     "text": [
      "PageRank         HarmonicRank   \n",
      "------------------------------\n",
      "text            | text           \n",
      "high            | high           \n",
      "quality         | datum          \n",
      "mining          | mining         \n",
      "datum           | quality        \n",
      "information     | derive         \n",
      "derive          | analytic       \n",
      "analytic        | information    \n"
     ]
    }
   ],
   "source": [
    "print(\"{0:15}  {1:15}\".format(\"PageRank\",\"HarmonicRank\"))\n",
    "print(\"-\"*30)\n",
    "for i in range(8):\n",
    "    print(\"{0:15} | {1:15}\".format(keywords_posSubset_PR[i][0],keywords_posSubset_HR[i][0]))"
   ]
  },
  {
   "cell_type": "markdown",
   "metadata": {},
   "source": [
    "### Algorithm Interaction\n",
    "\n",
    "The P2K algorithm also allows for user interaction through the following methods\n",
    "\n",
    "* getNeighbor()\n",
    "* remove_nodes()\n",
    "\n",
    "__Creating multi-word keyword:__\n",
    "\n",
    "In cases when the user wants to create multi-word keywords, the user can do so by using the _getNeighbor()_ method and thereby extracting candidate keywords that co-occur with the word of interest. As seen in the example below, the keyword 'text' co-occur with the words such as mining and datum (singular form of _data_)."
   ]
  },
  {
   "cell_type": "code",
   "execution_count": 41,
   "metadata": {},
   "outputs": [
    {
     "data": {
      "text/plain": [
       "['mining', 'analytic', 'datum']"
      ]
     },
     "execution_count": 41,
     "metadata": {},
     "output_type": "execute_result"
    }
   ],
   "source": [
    "portfolio_posAll.getNeighbor(\"text\")"
   ]
  },
  {
   "cell_type": "markdown",
   "metadata": {},
   "source": [
    "__Removing undesired keywords:__\n",
    "\n",
    "The user can also choose to remove undesired keywords and thereafter rerun the ranking algorithm"
   ]
  },
  {
   "cell_type": "code",
   "execution_count": 42,
   "metadata": {},
   "outputs": [
    {
     "name": "stdout",
     "output_type": "stream",
     "text": [
      "PageRank         HarmonicRank   \n",
      "------------------------------\n",
      "text            | text           \n",
      "also            | mining         \n",
      "roughly         | datum          \n",
      "information     | quality        \n",
      "equivalent      | refer          \n",
      "refer           | also           \n",
      "quality         | roughly        \n",
      "datum           | analytic       \n",
      "mining          | equivalent     \n",
      "analytic        | information    \n"
     ]
    }
   ],
   "source": [
    "portfolio_posAll.remove_nodes(\"high\")\n",
    "\n",
    "keywords_posAll_PR_update = portfolio_posAll.extract_keywords_pagerank()\n",
    "keywords_posAll_HR_update = portfolio_posAll.extract_keywords_harmonic()\n",
    "\n",
    "print(\"{0:15}  {1:15}\".format(\"PageRank\",\"HarmonicRank\"))\n",
    "print(\"-\"*30)\n",
    "for i in range(10):\n",
    "    print(\"{0:15} | {1:15}\".format(keywords_posAll_PR_update[i][0],keywords_posAll_HR_update[i][0]))\n"
   ]
  }
 ],
 "metadata": {
  "kernelspec": {
   "display_name": "Python 3",
   "language": "python",
   "name": "python3"
  },
  "language_info": {
   "codemirror_mode": {
    "name": "ipython",
    "version": 3
   },
   "file_extension": ".py",
   "mimetype": "text/x-python",
   "name": "python",
   "nbconvert_exporter": "python",
   "pygments_lexer": "ipython3",
   "version": "3.5.1"
  }
 },
 "nbformat": 4,
 "nbformat_minor": 2
}
